{
 "cells": [
  {
   "cell_type": "code",
   "metadata": {
    "collapsed": true,
    "pycharm": {
     "name": "#%%\n"
    }
   },
   "source": [
    "from sqlalchemy import create_engine\n",
    "import pandas as pd\n",
    "import re"
   ],
   "execution_count": 183,
   "outputs": []
  },
  {
   "cell_type": "code",
   "execution_count": 184,
   "outputs": [],
   "source": [
    "engine = create_engine('sqlite:///testDB.sqlite3')\n",
    "connection = engine.raw_connection()"
   ],
   "metadata": {
    "collapsed": false,
    "pycharm": {
     "name": "#%%\n"
    }
   }
  },
  {
   "cell_type": "markdown",
   "source": [
    "Построение таблицы для план-факт анализа из базы данных.\n",
    "\n",
    "Таблица плана:\n",
    "Согласно структуре базы, плановые данные по продажам можно получить только в разрезе сервисных центров (СЦ), но не по клиентам. Поэтому итоговая таблица план-факта была построена в разрезе сервисных центров. Также в связи с невозможностью привязать клиента к плановым продажам, код региона был взят из таблицы Agents, т.е. привязанный к сервисному центру, а не к клиенту. Было проверено, что код региона сервисного центра не всегда совпадает с кодом региона клиента, но для региона 77 в большинстве случаев совпадает, поэтому было сделано такое допущение.\n",
    "Таким образом, в таблице плана поставлен фильтр по региону 77, а также по продукту \"Бухгалтерия.Контур\". Номер сервисного центра, плановые продажи и месяц и год, к которму они относятся, подтянуты из таблицы rPlan.\n",
    "\n",
    "Таблица факта:\n",
    "Для сопоставимости с таблицей плана, таблица факта также построена в разрезе сервисных центров, фактических продаж, месяца и года, к которым они относятся, так же, как и в таблице плана, добавлен фильтр по региону и продукту. Год и месяц продаж - колонка PayDate из таблицы Bills. Колонка BDate не подходит, т.к. это начисление платежей, которые могут быть оплачены позднее."
   ],
   "metadata": {
    "collapsed": false,
    "pycharm": {
     "name": "#%% md\n"
    }
   }
  },
  {
   "cell_type": "code",
   "execution_count": 185,
   "outputs": [
    {
     "data": {
      "text/plain": "                                     scID  plan_sales  fact_sales   abs_dev  \\\n0    1BCFA123-B3CC-FACF-E127-85FDBF3D386E    508300.0    488750.0  -19550.0   \n1    3FED3285-975A-2D54-A448-3631D3F2D0A0    631078.3    624830.0   -6248.0   \n2    49A9B9DC-EA97-4450-DFEB-473EB34753C2    396560.0    396560.0       0.0   \n3    4C56CBA9-D127-1724-29A9-485F543E03B8    527817.6    549810.0   21992.0   \n4    5F6C1C24-C72E-C3BF-F6E9-3A66B22C0530    516261.2    567320.0   51059.0   \n..                                    ...         ...         ...       ...   \n468  96BA5788-930E-CEB4-1868-6C4C8ED884DE   1435018.1   1420810.0  -14208.0   \n469  AC52A184-7480-C0EF-8CF1-8AB6CA0C266C   1296486.0   1600600.0  304114.0   \n470  C4CDA77A-511F-DE31-A3D1-EF8730E00339   1486408.6   1532380.0   45971.0   \n471  C64FBAFC-1860-BAF2-D875-403150AF29AD   1414140.0   1414140.0       0.0   \n472  D0A5BE04-FAAC-A4CE-1F17-7C3448093125   1855719.8   1974170.0  118450.0   \n\n     rel_dev  year month  \n0       -4.0  2015    06  \n1       -1.0  2015    06  \n2        0.0  2015    06  \n3        4.0  2015    06  \n4       10.0  2015    06  \n..       ...   ...   ...  \n468     -1.0  2018    12  \n469     23.0  2018    12  \n470      3.0  2018    12  \n471      0.0  2018    12  \n472      6.0  2018    12  \n\n[473 rows x 7 columns]",
      "text/html": "<div>\n<style scoped>\n    .dataframe tbody tr th:only-of-type {\n        vertical-align: middle;\n    }\n\n    .dataframe tbody tr th {\n        vertical-align: top;\n    }\n\n    .dataframe thead th {\n        text-align: right;\n    }\n</style>\n<table border=\"1\" class=\"dataframe\">\n  <thead>\n    <tr style=\"text-align: right;\">\n      <th></th>\n      <th>scID</th>\n      <th>plan_sales</th>\n      <th>fact_sales</th>\n      <th>abs_dev</th>\n      <th>rel_dev</th>\n      <th>year</th>\n      <th>month</th>\n    </tr>\n  </thead>\n  <tbody>\n    <tr>\n      <th>0</th>\n      <td>1BCFA123-B3CC-FACF-E127-85FDBF3D386E</td>\n      <td>508300.0</td>\n      <td>488750.0</td>\n      <td>-19550.0</td>\n      <td>-4.0</td>\n      <td>2015</td>\n      <td>06</td>\n    </tr>\n    <tr>\n      <th>1</th>\n      <td>3FED3285-975A-2D54-A448-3631D3F2D0A0</td>\n      <td>631078.3</td>\n      <td>624830.0</td>\n      <td>-6248.0</td>\n      <td>-1.0</td>\n      <td>2015</td>\n      <td>06</td>\n    </tr>\n    <tr>\n      <th>2</th>\n      <td>49A9B9DC-EA97-4450-DFEB-473EB34753C2</td>\n      <td>396560.0</td>\n      <td>396560.0</td>\n      <td>0.0</td>\n      <td>0.0</td>\n      <td>2015</td>\n      <td>06</td>\n    </tr>\n    <tr>\n      <th>3</th>\n      <td>4C56CBA9-D127-1724-29A9-485F543E03B8</td>\n      <td>527817.6</td>\n      <td>549810.0</td>\n      <td>21992.0</td>\n      <td>4.0</td>\n      <td>2015</td>\n      <td>06</td>\n    </tr>\n    <tr>\n      <th>4</th>\n      <td>5F6C1C24-C72E-C3BF-F6E9-3A66B22C0530</td>\n      <td>516261.2</td>\n      <td>567320.0</td>\n      <td>51059.0</td>\n      <td>10.0</td>\n      <td>2015</td>\n      <td>06</td>\n    </tr>\n    <tr>\n      <th>...</th>\n      <td>...</td>\n      <td>...</td>\n      <td>...</td>\n      <td>...</td>\n      <td>...</td>\n      <td>...</td>\n      <td>...</td>\n    </tr>\n    <tr>\n      <th>468</th>\n      <td>96BA5788-930E-CEB4-1868-6C4C8ED884DE</td>\n      <td>1435018.1</td>\n      <td>1420810.0</td>\n      <td>-14208.0</td>\n      <td>-1.0</td>\n      <td>2018</td>\n      <td>12</td>\n    </tr>\n    <tr>\n      <th>469</th>\n      <td>AC52A184-7480-C0EF-8CF1-8AB6CA0C266C</td>\n      <td>1296486.0</td>\n      <td>1600600.0</td>\n      <td>304114.0</td>\n      <td>23.0</td>\n      <td>2018</td>\n      <td>12</td>\n    </tr>\n    <tr>\n      <th>470</th>\n      <td>C4CDA77A-511F-DE31-A3D1-EF8730E00339</td>\n      <td>1486408.6</td>\n      <td>1532380.0</td>\n      <td>45971.0</td>\n      <td>3.0</td>\n      <td>2018</td>\n      <td>12</td>\n    </tr>\n    <tr>\n      <th>471</th>\n      <td>C64FBAFC-1860-BAF2-D875-403150AF29AD</td>\n      <td>1414140.0</td>\n      <td>1414140.0</td>\n      <td>0.0</td>\n      <td>0.0</td>\n      <td>2018</td>\n      <td>12</td>\n    </tr>\n    <tr>\n      <th>472</th>\n      <td>D0A5BE04-FAAC-A4CE-1F17-7C3448093125</td>\n      <td>1855719.8</td>\n      <td>1974170.0</td>\n      <td>118450.0</td>\n      <td>6.0</td>\n      <td>2018</td>\n      <td>12</td>\n    </tr>\n  </tbody>\n</table>\n<p>473 rows × 7 columns</p>\n</div>"
     },
     "execution_count": 185,
     "metadata": {},
     "output_type": "execute_result"
    }
   ],
   "source": [
    "sql_pf_analysis = \"\"\"WITH fact_table AS (\n",
    "SELECT Bills.scID,\n",
    "       strftime('%m', Bills.PayDate) as fact_month,\n",
    "       strftime('%Y', Bills.PayDate) as fact_year,\n",
    "       SUM(BC.Cost) as fact_sales\n",
    "FROM Bills\n",
    "JOIN BillsContent BC on Bills.bID = BC.bID\n",
    "JOIN PriceItems PI on BC.piID = PI.piID\n",
    "JOIN Agents A on Bills.scID = A.scID\n",
    "WHERE PayDate IS NOT NULL AND product = 'Бухгалтерия.Контур' AND A.regionCode = 77\n",
    "GROUP BY 1, 2, 3\n",
    "),\n",
    "plan_table AS (\n",
    "SELECT rPlan.scID,\n",
    "    rPlan.plan_amount,\n",
    "    strftime('%m', rPlan.dt) as plan_month,\n",
    "    strftime('%Y', rPlan.dt) as plan_year\n",
    "FROM rPlan\n",
    "LEFT JOIN Agents A on rPlan.scID = A.scID\n",
    "WHERE product = 'Бухгалтерия.Контур' AND A.regionCode = 77\n",
    "ORDER BY plan_year, plan_month\n",
    ")\n",
    "SELECT plan_table.scID,\n",
    "       plan_amount as plan_sales,\n",
    "       fact_sales,\n",
    "       round(fact_sales - plan_amount) as abs_dev,\n",
    "       round((fact_sales - plan_amount) / plan_amount * 100) as rel_dev,\n",
    "       plan_year as year,\n",
    "       plan_month as month\n",
    "FROM plan_table\n",
    "JOIN fact_table on plan_table.scID = fact_table.scID\n",
    "               AND plan_table.plan_month = fact_table.fact_month\n",
    "               AND plan_table.plan_year = fact_table.fact_year\n",
    "\"\"\"\n",
    "pf_analysis = pd.read_sql_query(sql_pf_analysis, connection)\n",
    "\n",
    "pf_analysis"
   ],
   "metadata": {
    "collapsed": false,
    "pycharm": {
     "name": "#%%\n"
    }
   }
  },
  {
   "cell_type": "markdown",
   "source": [
    "За все анализируемые периоды 2015-2018 гг. общая сумма фактических продаж составила 652 млн руб., плановых - 657 млн руб. Средняя сумма как фактических, так и плановых продаж по одному СЦ за месяц 1,4 млн руб. Также расчитано среднеквадратическое отклонение по продажам, которое составляет для фактических продаж 243 тыс.руб., для плановых - 271 тыс.руб., что показывает разброс значений от средних продаж. Относительно средних продаж разброс получается довольно большой."
   ],
   "metadata": {
    "collapsed": false,
    "pycharm": {
     "name": "#%% md\n"
    }
   }
  },
  {
   "cell_type": "code",
   "execution_count": 186,
   "outputs": [
    {
     "name": "stdout",
     "output_type": "stream",
     "text": [
      "       plan_sales  fact_sales    abs_dev  rel_dev\n",
      "count      473.00      473.00     473.00   473.00\n",
      "mean   1388687.19  1378531.08  -10156.13    -0.11\n",
      "std     270551.37   242612.98  108354.92     7.84\n",
      "min     396560.00   396560.00 -367099.00   -19.00\n",
      "25%    1213351.20  1243980.00  -77016.00    -5.00\n",
      "50%    1388101.00  1388430.00  -10928.00    -1.00\n",
      "75%    1559260.50  1531660.00   58320.00     5.00\n",
      "max    2119260.00  1974170.00  337392.00    30.00\n",
      "Сумма плановых продаж за 2015-2018 гг. составляет 656849039.5 руб.\n",
      "Сумма фактических продаж за 2015-2018 гг. составляет 652045200.0 руб.\n"
     ]
    }
   ],
   "source": [
    "print(round(pf_analysis.describe(),2))\n",
    "\n",
    "sum_plan_sales = pf_analysis['plan_sales'].sum()\n",
    "sum_fact_sales = pf_analysis['fact_sales'].sum()\n",
    "\n",
    "print(f\"Сумма плановых продаж за 2015-2018 гг. составляет {sum_plan_sales} руб.\")\n",
    "print(f\"Сумма фактических продаж за 2015-2018 гг. составляет {sum_fact_sales} руб.\")"
   ],
   "metadata": {
    "collapsed": false,
    "pycharm": {
     "name": "#%%\n"
    }
   }
  },
  {
   "cell_type": "markdown",
   "source": [
    "План формируется довольно точно. В 52% случаев произошло недовыполнение плана, в 48% случаев - перевыполнение, см.таблицу отклонений плана от факта в разрезе СЦ по годам. Среднее отклонение плана от факта за все периоды составляет -0.06%. Невыполнение плана больше всего прослеживается в 2017 году, которое произошло в основном из-за трех СЦ (C64FBAFC-1860-BAF2-D875-403150AF29AD -5.33%, D0A5BE04-FAAC-A4CE-1F17-7C3448093125 -4.75%, 74915D93-321F-B18C-7FBA-8CAD1384E86D -3.92%). В 2018 году по данным СЦ план был составлен адекватно (результаты план-факт по этим трем СЦ соответственно: -1.08%, 0%, 3.42%), в целом компании стоит придерживаться методики расчета плановых продаж."
   ],
   "metadata": {
    "collapsed": false,
    "pycharm": {
     "name": "#%% md\n"
    }
   }
  },
  {
   "cell_type": "code",
   "execution_count": 187,
   "outputs": [
    {
     "name": "stdout",
     "output_type": "stream",
     "text": [
      "Перевыполнение плана составляет 48.0%\n",
      "Среднее отклонение плана от факта за все периоды составляет -0.06%\n"
     ]
    },
    {
     "data": {
      "text/plain": "year                                  2015  2016  2017  2018\nscID                                                        \n1BCFA123-B3CC-FACF-E127-85FDBF3D386E -4.14 -0.17  2.75  2.17\n3FED3285-975A-2D54-A448-3631D3F2D0A0 -0.29 -0.08 -0.08  0.00\n49A9B9DC-EA97-4450-DFEB-473EB34753C2  4.00  4.33  0.50  1.92\n4C56CBA9-D127-1724-29A9-485F543E03B8 -3.29  1.25 -2.17 -0.75\n5F6C1C24-C72E-C3BF-F6E9-3A66B22C0530  5.00  1.08  0.42 -2.58\n74915D93-321F-B18C-7FBA-8CAD1384E86D -2.43  3.58 -3.92  3.42\n96BA5788-930E-CEB4-1868-6C4C8ED884DE -1.00  0.42 -0.08 -1.75\nAC52A184-7480-C0EF-8CF1-8AB6CA0C266C  2.14 -2.33  1.25  1.00\nC4CDA77A-511F-DE31-A3D1-EF8730E00339 -1.57 -2.00  2.67 -4.17\nC64FBAFC-1860-BAF2-D875-403150AF29AD  1.29 -2.83 -5.33 -1.08\nD0A5BE04-FAAC-A4CE-1F17-7C3448093125  3.86  1.00 -4.75  0.00",
      "text/html": "<div>\n<style scoped>\n    .dataframe tbody tr th:only-of-type {\n        vertical-align: middle;\n    }\n\n    .dataframe tbody tr th {\n        vertical-align: top;\n    }\n\n    .dataframe thead th {\n        text-align: right;\n    }\n</style>\n<table border=\"1\" class=\"dataframe\">\n  <thead>\n    <tr style=\"text-align: right;\">\n      <th>year</th>\n      <th>2015</th>\n      <th>2016</th>\n      <th>2017</th>\n      <th>2018</th>\n    </tr>\n    <tr>\n      <th>scID</th>\n      <th></th>\n      <th></th>\n      <th></th>\n      <th></th>\n    </tr>\n  </thead>\n  <tbody>\n    <tr>\n      <th>1BCFA123-B3CC-FACF-E127-85FDBF3D386E</th>\n      <td>-4.14</td>\n      <td>-0.17</td>\n      <td>2.75</td>\n      <td>2.17</td>\n    </tr>\n    <tr>\n      <th>3FED3285-975A-2D54-A448-3631D3F2D0A0</th>\n      <td>-0.29</td>\n      <td>-0.08</td>\n      <td>-0.08</td>\n      <td>0.00</td>\n    </tr>\n    <tr>\n      <th>49A9B9DC-EA97-4450-DFEB-473EB34753C2</th>\n      <td>4.00</td>\n      <td>4.33</td>\n      <td>0.50</td>\n      <td>1.92</td>\n    </tr>\n    <tr>\n      <th>4C56CBA9-D127-1724-29A9-485F543E03B8</th>\n      <td>-3.29</td>\n      <td>1.25</td>\n      <td>-2.17</td>\n      <td>-0.75</td>\n    </tr>\n    <tr>\n      <th>5F6C1C24-C72E-C3BF-F6E9-3A66B22C0530</th>\n      <td>5.00</td>\n      <td>1.08</td>\n      <td>0.42</td>\n      <td>-2.58</td>\n    </tr>\n    <tr>\n      <th>74915D93-321F-B18C-7FBA-8CAD1384E86D</th>\n      <td>-2.43</td>\n      <td>3.58</td>\n      <td>-3.92</td>\n      <td>3.42</td>\n    </tr>\n    <tr>\n      <th>96BA5788-930E-CEB4-1868-6C4C8ED884DE</th>\n      <td>-1.00</td>\n      <td>0.42</td>\n      <td>-0.08</td>\n      <td>-1.75</td>\n    </tr>\n    <tr>\n      <th>AC52A184-7480-C0EF-8CF1-8AB6CA0C266C</th>\n      <td>2.14</td>\n      <td>-2.33</td>\n      <td>1.25</td>\n      <td>1.00</td>\n    </tr>\n    <tr>\n      <th>C4CDA77A-511F-DE31-A3D1-EF8730E00339</th>\n      <td>-1.57</td>\n      <td>-2.00</td>\n      <td>2.67</td>\n      <td>-4.17</td>\n    </tr>\n    <tr>\n      <th>C64FBAFC-1860-BAF2-D875-403150AF29AD</th>\n      <td>1.29</td>\n      <td>-2.83</td>\n      <td>-5.33</td>\n      <td>-1.08</td>\n    </tr>\n    <tr>\n      <th>D0A5BE04-FAAC-A4CE-1F17-7C3448093125</th>\n      <td>3.86</td>\n      <td>1.00</td>\n      <td>-4.75</td>\n      <td>0.00</td>\n    </tr>\n  </tbody>\n</table>\n</div>"
     },
     "execution_count": 187,
     "metadata": {},
     "output_type": "execute_result"
    }
   ],
   "source": [
    "a = pf_analysis.pivot_table(index='scID', columns='year', values='rel_dev', aggfunc='mean')\n",
    "a['2015']=a['2015'].round(2)\n",
    "a['2016']=a['2016'].round(2)\n",
    "a['2017']=a['2017'].round(2)\n",
    "a['2018']=a['2018'].round(2)\n",
    "greater_zero = a[a > 0].count().sum()\n",
    "below_zero = a[a < 0].count().sum()\n",
    "plan_overfulfilment = (greater_zero/(below_zero+greater_zero)).round(2)\n",
    "mean_deviation_from_plan = round(a.mean().mean(),2)\n",
    "\n",
    "print(f\"Перевыполнение плана составляет {plan_overfulfilment*100}%\")\n",
    "print(f\"Среднее отклонение плана от факта за все периоды составляет {mean_deviation_from_plan}%\")\n",
    "a"
   ],
   "metadata": {
    "collapsed": false,
    "pycharm": {
     "name": "#%%\n"
    }
   }
  },
  {
   "cell_type": "markdown",
   "source": [
    "В 2015 году данные в базе представлены не за весь год, а за июнь-декабрь, поэтому годовая сумма продаж за 2015 год на графиках значительно меньше, чем в следующих годах.\n",
    "Сезонность продаж не прослеживается, подписку можно приобрести в любой месяц года, без привязки к началу финансового года.\n",
    "До 2018 года продажи постепенно росли, но в 2018 произошло падение фактических продаж на 16%, при этом падение продаж было заложено в план, т.е. никаких форс-мажоров не произошло. Согласно статистическим данным, количество микропредприятий увеличилось в 2018 по сравнению с прошлым годом, деловая активность в 2018 году также не пострадала.\n",
    "(данные Аналитического центра Москвы за 11 мес. 2018 года: https://ac-mos.ru/analytics/dinamika-pokazateley-ekonomicheskoy-aktivnosti-moskvy/)"
   ],
   "metadata": {
    "collapsed": false,
    "pycharm": {
     "name": "#%% md\n"
    }
   }
  },
  {
   "cell_type": "code",
   "execution_count": 188,
   "outputs": [
    {
     "data": {
      "text/plain": "Text(0, 0.5, \"'00 mln rub\")"
     },
     "execution_count": 188,
     "metadata": {},
     "output_type": "execute_result"
    },
    {
     "data": {
      "text/plain": "<Figure size 432x288 with 1 Axes>",
      "image/png": "[encoded data removed]"
     },
     "metadata": {
      "needs_background": "light"
     },
     "output_type": "display_data"
    }
   ],
   "source": [
    "pf_analysis_grouped_plan = pf_analysis.groupby(by='year')['plan_sales'].sum()\n",
    "pf_analysis_grouped_fact = pf_analysis.groupby(by='year')['fact_sales'].sum()\n",
    "pf_analysis_grouped = pd.concat([pf_analysis_grouped_plan,\n",
    "                                 pf_analysis_grouped_fact], keys='year', axis=1)\n",
    "\n",
    "ax = pf_analysis_grouped.plot.bar()\n",
    "ax.legend([\"plan\", \"fact\"])\n",
    "ax.set_ylabel(\"'00 mln rub\")"
   ],
   "metadata": {
    "collapsed": false,
    "pycharm": {
     "name": "#%%\n"
    }
   }
  },
  {
   "cell_type": "markdown",
   "source": [
    "Также причиной снижения выручки по продажам продукта Контур.Бухгалтерия могло стать то, что часть старых и новых клиентов перешли на похожие продукты по сдаче отчетности: Контур-Экстерн (продажи начались в конце 2017) и Контур-Экстерн Малый Бизнес (продажи начались в 2018 году). См.таблицу ниже."
   ],
   "metadata": {
    "collapsed": false,
    "pycharm": {
     "name": "#%% md\n"
    }
   }
  },
  {
   "cell_type": "code",
   "execution_count": 189,
   "outputs": [
    {
     "data": {
      "text/plain": "year                               2015        2016        2017       2018\nproduct                                                                   \nБухгалтерия.Контур             86616.34   195146.19   201002.97   169279.7\nДиадок                              NaN   485025.00   720336.00   571410.0\nКЭП                                 NaN         NaN         NaN   449884.5\nКЭП.Универсальный            1527792.00   882804.00   748617.60   595315.2\nКонтур EDI                    580018.80   335499.60   285108.00   225381.6\nКонтур-Фокус                 2025381.60  2661865.20  2269897.20  1792695.6\nКонтур-Экстерн                      NaN         NaN    68971.50   517779.0\nКонтур-Экстерн Малый Бизнес         NaN         NaN         NaN   388639.2\nКонтур.Закупки               1910685.00  1108141.50   937963.50   748570.5\nКонтур.Кассы                 1908441.00  1096537.50   931107.00   739053.0\nКонтур.ОФД                          NaN   268250.40  2285816.40  1807963.2\nСверка НДС                          NaN   708714.90   644047.20   513180.9\nУслуги УЦ                     881841.60  1783831.20  1494638.40  1184491.2\nЭТП                                 NaN         NaN         NaN   630372.6\nЭльба                               NaN  1666035.00  1699196.40  1354387.5",
      "text/html": "<div>\n<style scoped>\n    .dataframe tbody tr th:only-of-type {\n        vertical-align: middle;\n    }\n\n    .dataframe tbody tr th {\n        vertical-align: top;\n    }\n\n    .dataframe thead th {\n        text-align: right;\n    }\n</style>\n<table border=\"1\" class=\"dataframe\">\n  <thead>\n    <tr style=\"text-align: right;\">\n      <th>year</th>\n      <th>2015</th>\n      <th>2016</th>\n      <th>2017</th>\n      <th>2018</th>\n    </tr>\n    <tr>\n      <th>product</th>\n      <th></th>\n      <th></th>\n      <th></th>\n      <th></th>\n    </tr>\n  </thead>\n  <tbody>\n    <tr>\n      <th>Бухгалтерия.Контур</th>\n      <td>86616.34</td>\n      <td>195146.19</td>\n      <td>201002.97</td>\n      <td>169279.7</td>\n    </tr>\n    <tr>\n      <th>Диадок</th>\n      <td>NaN</td>\n      <td>485025.00</td>\n      <td>720336.00</td>\n      <td>571410.0</td>\n    </tr>\n    <tr>\n      <th>КЭП</th>\n      <td>NaN</td>\n      <td>NaN</td>\n      <td>NaN</td>\n      <td>449884.5</td>\n    </tr>\n    <tr>\n      <th>КЭП.Универсальный</th>\n      <td>1527792.00</td>\n      <td>882804.00</td>\n      <td>748617.60</td>\n      <td>595315.2</td>\n    </tr>\n    <tr>\n      <th>Контур EDI</th>\n      <td>580018.80</td>\n      <td>335499.60</td>\n      <td>285108.00</td>\n      <td>225381.6</td>\n    </tr>\n    <tr>\n      <th>Контур-Фокус</th>\n      <td>2025381.60</td>\n      <td>2661865.20</td>\n      <td>2269897.20</td>\n      <td>1792695.6</td>\n    </tr>\n    <tr>\n      <th>Контур-Экстерн</th>\n      <td>NaN</td>\n      <td>NaN</td>\n      <td>68971.50</td>\n      <td>517779.0</td>\n    </tr>\n    <tr>\n      <th>Контур-Экстерн Малый Бизнес</th>\n      <td>NaN</td>\n      <td>NaN</td>\n      <td>NaN</td>\n      <td>388639.2</td>\n    </tr>\n    <tr>\n      <th>Контур.Закупки</th>\n      <td>1910685.00</td>\n      <td>1108141.50</td>\n      <td>937963.50</td>\n      <td>748570.5</td>\n    </tr>\n    <tr>\n      <th>Контур.Кассы</th>\n      <td>1908441.00</td>\n      <td>1096537.50</td>\n      <td>931107.00</td>\n      <td>739053.0</td>\n    </tr>\n    <tr>\n      <th>Контур.ОФД</th>\n      <td>NaN</td>\n      <td>268250.40</td>\n      <td>2285816.40</td>\n      <td>1807963.2</td>\n    </tr>\n    <tr>\n      <th>Сверка НДС</th>\n      <td>NaN</td>\n      <td>708714.90</td>\n      <td>644047.20</td>\n      <td>513180.9</td>\n    </tr>\n    <tr>\n      <th>Услуги УЦ</th>\n      <td>881841.60</td>\n      <td>1783831.20</td>\n      <td>1494638.40</td>\n      <td>1184491.2</td>\n    </tr>\n    <tr>\n      <th>ЭТП</th>\n      <td>NaN</td>\n      <td>NaN</td>\n      <td>NaN</td>\n      <td>630372.6</td>\n    </tr>\n    <tr>\n      <th>Эльба</th>\n      <td>NaN</td>\n      <td>1666035.00</td>\n      <td>1699196.40</td>\n      <td>1354387.5</td>\n    </tr>\n  </tbody>\n</table>\n</div>"
     },
     "execution_count": 189,
     "metadata": {},
     "output_type": "execute_result"
    }
   ],
   "source": [
    "sales_by_product = \"\"\"SELECT P.product as product,\n",
    "       strftime('%Y', Bills.PayDate) as year,\n",
    "       SUM(BC.Cost) as fact_sales\n",
    "FROM Bills\n",
    "JOIN BillsContent BC on Bills.bID = BC.bID\n",
    "JOIN PriceItems PI on BC.piID = PI.piID\n",
    "JOIN Products P on PI.product = P.product\n",
    "JOIN Agents A on Bills.scID = A.scID\n",
    "WHERE A.regionCode = 77\n",
    "GROUP BY P.product, year\"\"\"\n",
    "sales_by_product = pd.read_sql_query(sales_by_product, connection)\n",
    "sales_by_product = sales_by_product.pivot(index='product', columns='year', values='fact_sales')\n",
    "sales_by_product_new = sales_by_product.drop(sales_by_product.columns[0], axis=1)\n",
    "sales_by_product_new['2015'] = sales_by_product_new['2015'].div(1000).round(2)\n",
    "sales_by_product_new['2016'] = sales_by_product_new['2016'].div(1000).round(2)\n",
    "sales_by_product_new['2017'] = sales_by_product_new['2017'].div(1000).round(2)\n",
    "sales_by_product_new['2018'] = sales_by_product_new['2018'].div(1000).round(2)\n",
    "\n",
    "sales_by_product_new"
   ],
   "metadata": {
    "collapsed": false,
    "pycharm": {
     "name": "#%%\n"
    }
   }
  },
  {
   "cell_type": "markdown",
   "source": [
    "Обращаясь к таблице PriceItems, видим, что в наименовании тарифа (колонка piName) помимо наименования продукта, которое есть в отдельной колонке, указан срок действия подписки, и наименование тарифа. Последние два параметра были выделены в отдельные колонки для анализа с помощью регулярных выражений, далее присоединяем данные по фактическим продажам к этой таблице (в силу структуры базы данных, тариф нельзя отнести к плановым данным, поэтому анализ в разрезе тарифов сделан только по фактическим продажам)."
   ],
   "metadata": {
    "collapsed": false,
    "pycharm": {
     "name": "#%% md\n"
    }
   }
  },
  {
   "cell_type": "code",
   "execution_count": 190,
   "outputs": [
    {
     "data": {
      "text/plain": "    piID                                             piName\n0     15  Доступ к сервису \"Бухгалтерия.Контур\" сроком н...\n1    136  Доступ к сервису \"Бухгалтерия.Контур\" сроком н...\n2    180  Доступ к сервису \"Бухгалтерия.Контур\" сроком н...\n3    195  Доступ к сервису \"Бухгалтерия.Контур\" сроком н...\n4    225  Доступ к сервису \"Бухгалтерия.Контур\" сроком н...\n5    240  Доступ к сервису \"Бухгалтерия.Контур\" сроком н...\n6    270  Доступ к сервису \"Бухгалтерия.Контур\" сроком н...\n7     45  Доступ к сервису \"Бухгалтерия.Контур\" сроком н...\n8     75  Доступ к сервису \"Бухгалтерия.Контур\" сроком н...\n9    105  Доступ к сервису \"Бухгалтерия.Контур\" сроком н...\n10   120  Доступ к сервису \"Бухгалтерия.Контур\" сроком н...",
      "text/html": "<div>\n<style scoped>\n    .dataframe tbody tr th:only-of-type {\n        vertical-align: middle;\n    }\n\n    .dataframe tbody tr th {\n        vertical-align: top;\n    }\n\n    .dataframe thead th {\n        text-align: right;\n    }\n</style>\n<table border=\"1\" class=\"dataframe\">\n  <thead>\n    <tr style=\"text-align: right;\">\n      <th></th>\n      <th>piID</th>\n      <th>piName</th>\n    </tr>\n  </thead>\n  <tbody>\n    <tr>\n      <th>0</th>\n      <td>15</td>\n      <td>Доступ к сервису \"Бухгалтерия.Контур\" сроком н...</td>\n    </tr>\n    <tr>\n      <th>1</th>\n      <td>136</td>\n      <td>Доступ к сервису \"Бухгалтерия.Контур\" сроком н...</td>\n    </tr>\n    <tr>\n      <th>2</th>\n      <td>180</td>\n      <td>Доступ к сервису \"Бухгалтерия.Контур\" сроком н...</td>\n    </tr>\n    <tr>\n      <th>3</th>\n      <td>195</td>\n      <td>Доступ к сервису \"Бухгалтерия.Контур\" сроком н...</td>\n    </tr>\n    <tr>\n      <th>4</th>\n      <td>225</td>\n      <td>Доступ к сервису \"Бухгалтерия.Контур\" сроком н...</td>\n    </tr>\n    <tr>\n      <th>5</th>\n      <td>240</td>\n      <td>Доступ к сервису \"Бухгалтерия.Контур\" сроком н...</td>\n    </tr>\n    <tr>\n      <th>6</th>\n      <td>270</td>\n      <td>Доступ к сервису \"Бухгалтерия.Контур\" сроком н...</td>\n    </tr>\n    <tr>\n      <th>7</th>\n      <td>45</td>\n      <td>Доступ к сервису \"Бухгалтерия.Контур\" сроком н...</td>\n    </tr>\n    <tr>\n      <th>8</th>\n      <td>75</td>\n      <td>Доступ к сервису \"Бухгалтерия.Контур\" сроком н...</td>\n    </tr>\n    <tr>\n      <th>9</th>\n      <td>105</td>\n      <td>Доступ к сервису \"Бухгалтерия.Контур\" сроком н...</td>\n    </tr>\n    <tr>\n      <th>10</th>\n      <td>120</td>\n      <td>Доступ к сервису \"Бухгалтерия.Контур\" сроком н...</td>\n    </tr>\n  </tbody>\n</table>\n</div>"
     },
     "execution_count": 190,
     "metadata": {},
     "output_type": "execute_result"
    }
   ],
   "source": [
    "sql_tariff_naming = \"\"\"SELECT piID, piName FROM PriceItems WHERE product = 'Бухгалтерия.Контур'\"\"\"\n",
    "tariff_naming = pd.read_sql_query(sql_tariff_naming, connection)\n",
    "\n",
    "tariff_naming"
   ],
   "metadata": {
    "collapsed": false,
    "pycharm": {
     "name": "#%%\n"
    }
   }
  },
  {
   "cell_type": "code",
   "execution_count": 191,
   "outputs": [
    {
     "data": {
      "text/plain": "    piID                                             piName          type\n0     15  Доступ к сервису \"Бухгалтерия.Контур\" сроком н...          Лайт\n1    136  Доступ к сервису \"Бухгалтерия.Контур\" сроком н...       Базовый\n2    180  Доступ к сервису \"Бухгалтерия.Контур\" сроком н...            ТД\n3    195  Доступ к сервису \"Бухгалтерия.Контур\" сроком н...          Лайт\n4    225  Доступ к сервису \"Бухгалтерия.Контур\" сроком н...            ТД\n5    240  Доступ к сервису \"Бухгалтерия.Контур\" сроком н...          Лайт\n6    270  Доступ к сервису \"Бухгалтерия.Контур\" сроком н...            ТД\n7     45  Доступ к сервису \"Бухгалтерия.Контур\" сроком н...       Базовый\n8     75  Доступ к сервису \"Бухгалтерия.Контур\" сроком н...  Максимальный\n9    105  Доступ к сервису \"Бухгалтерия.Контур\" сроком н...            ТД\n10   120  Доступ к сервису \"Бухгалтерия.Контур\" сроком н...          Лайт",
      "text/html": "<div>\n<style scoped>\n    .dataframe tbody tr th:only-of-type {\n        vertical-align: middle;\n    }\n\n    .dataframe tbody tr th {\n        vertical-align: top;\n    }\n\n    .dataframe thead th {\n        text-align: right;\n    }\n</style>\n<table border=\"1\" class=\"dataframe\">\n  <thead>\n    <tr style=\"text-align: right;\">\n      <th></th>\n      <th>piID</th>\n      <th>piName</th>\n      <th>type</th>\n    </tr>\n  </thead>\n  <tbody>\n    <tr>\n      <th>0</th>\n      <td>15</td>\n      <td>Доступ к сервису \"Бухгалтерия.Контур\" сроком н...</td>\n      <td>Лайт</td>\n    </tr>\n    <tr>\n      <th>1</th>\n      <td>136</td>\n      <td>Доступ к сервису \"Бухгалтерия.Контур\" сроком н...</td>\n      <td>Базовый</td>\n    </tr>\n    <tr>\n      <th>2</th>\n      <td>180</td>\n      <td>Доступ к сервису \"Бухгалтерия.Контур\" сроком н...</td>\n      <td>ТД</td>\n    </tr>\n    <tr>\n      <th>3</th>\n      <td>195</td>\n      <td>Доступ к сервису \"Бухгалтерия.Контур\" сроком н...</td>\n      <td>Лайт</td>\n    </tr>\n    <tr>\n      <th>4</th>\n      <td>225</td>\n      <td>Доступ к сервису \"Бухгалтерия.Контур\" сроком н...</td>\n      <td>ТД</td>\n    </tr>\n    <tr>\n      <th>5</th>\n      <td>240</td>\n      <td>Доступ к сервису \"Бухгалтерия.Контур\" сроком н...</td>\n      <td>Лайт</td>\n    </tr>\n    <tr>\n      <th>6</th>\n      <td>270</td>\n      <td>Доступ к сервису \"Бухгалтерия.Контур\" сроком н...</td>\n      <td>ТД</td>\n    </tr>\n    <tr>\n      <th>7</th>\n      <td>45</td>\n      <td>Доступ к сервису \"Бухгалтерия.Контур\" сроком н...</td>\n      <td>Базовый</td>\n    </tr>\n    <tr>\n      <th>8</th>\n      <td>75</td>\n      <td>Доступ к сервису \"Бухгалтерия.Контур\" сроком н...</td>\n      <td>Максимальный</td>\n    </tr>\n    <tr>\n      <th>9</th>\n      <td>105</td>\n      <td>Доступ к сервису \"Бухгалтерия.Контур\" сроком н...</td>\n      <td>ТД</td>\n    </tr>\n    <tr>\n      <th>10</th>\n      <td>120</td>\n      <td>Доступ к сервису \"Бухгалтерия.Контур\" сроком н...</td>\n      <td>Лайт</td>\n    </tr>\n  </tbody>\n</table>\n</div>"
     },
     "execution_count": 191,
     "metadata": {},
     "output_type": "execute_result"
    }
   ],
   "source": [
    "type_column = []\n",
    "for name in tariff_naming.piName:\n",
    "    a = re.search('[\\\"|(]([а-яА-Я]*)[\\\"|)]$', name).group(1)\n",
    "    type_column.append(a)\n",
    "tariff_naming['type'] = type_column\n",
    "\n",
    "tariff_naming"
   ],
   "metadata": {
    "collapsed": false,
    "pycharm": {
     "name": "#%%\n"
    }
   }
  },
  {
   "cell_type": "code",
   "execution_count": 192,
   "outputs": [
    {
     "data": {
      "text/plain": "    piID                                             piName          type  \\\n0     15  Доступ к сервису \"Бухгалтерия.Контур\" сроком н...          Лайт   \n1    136  Доступ к сервису \"Бухгалтерия.Контур\" сроком н...       Базовый   \n2    180  Доступ к сервису \"Бухгалтерия.Контур\" сроком н...            ТД   \n3    195  Доступ к сервису \"Бухгалтерия.Контур\" сроком н...          Лайт   \n4    225  Доступ к сервису \"Бухгалтерия.Контур\" сроком н...            ТД   \n5    240  Доступ к сервису \"Бухгалтерия.Контур\" сроком н...          Лайт   \n6    270  Доступ к сервису \"Бухгалтерия.Контур\" сроком н...            ТД   \n7     45  Доступ к сервису \"Бухгалтерия.Контур\" сроком н...       Базовый   \n8     75  Доступ к сервису \"Бухгалтерия.Контур\" сроком н...  Максимальный   \n9    105  Доступ к сервису \"Бухгалтерия.Контур\" сроком н...            ТД   \n10   120  Доступ к сервису \"Бухгалтерия.Контур\" сроком н...          Лайт   \n\n   duration  \n0    6 мес.  \n1     1 год  \n2    2 мес.  \n3   18 мес.  \n4    3 мес.  \n5    2 года  \n6    4 мес.  \n7    6 мес.  \n8    6 мес.  \n9    1 мес.  \n10    1 год  ",
      "text/html": "<div>\n<style scoped>\n    .dataframe tbody tr th:only-of-type {\n        vertical-align: middle;\n    }\n\n    .dataframe tbody tr th {\n        vertical-align: top;\n    }\n\n    .dataframe thead th {\n        text-align: right;\n    }\n</style>\n<table border=\"1\" class=\"dataframe\">\n  <thead>\n    <tr style=\"text-align: right;\">\n      <th></th>\n      <th>piID</th>\n      <th>piName</th>\n      <th>type</th>\n      <th>duration</th>\n    </tr>\n  </thead>\n  <tbody>\n    <tr>\n      <th>0</th>\n      <td>15</td>\n      <td>Доступ к сервису \"Бухгалтерия.Контур\" сроком н...</td>\n      <td>Лайт</td>\n      <td>6 мес.</td>\n    </tr>\n    <tr>\n      <th>1</th>\n      <td>136</td>\n      <td>Доступ к сервису \"Бухгалтерия.Контур\" сроком н...</td>\n      <td>Базовый</td>\n      <td>1 год</td>\n    </tr>\n    <tr>\n      <th>2</th>\n      <td>180</td>\n      <td>Доступ к сервису \"Бухгалтерия.Контур\" сроком н...</td>\n      <td>ТД</td>\n      <td>2 мес.</td>\n    </tr>\n    <tr>\n      <th>3</th>\n      <td>195</td>\n      <td>Доступ к сервису \"Бухгалтерия.Контур\" сроком н...</td>\n      <td>Лайт</td>\n      <td>18 мес.</td>\n    </tr>\n    <tr>\n      <th>4</th>\n      <td>225</td>\n      <td>Доступ к сервису \"Бухгалтерия.Контур\" сроком н...</td>\n      <td>ТД</td>\n      <td>3 мес.</td>\n    </tr>\n    <tr>\n      <th>5</th>\n      <td>240</td>\n      <td>Доступ к сервису \"Бухгалтерия.Контур\" сроком н...</td>\n      <td>Лайт</td>\n      <td>2 года</td>\n    </tr>\n    <tr>\n      <th>6</th>\n      <td>270</td>\n      <td>Доступ к сервису \"Бухгалтерия.Контур\" сроком н...</td>\n      <td>ТД</td>\n      <td>4 мес.</td>\n    </tr>\n    <tr>\n      <th>7</th>\n      <td>45</td>\n      <td>Доступ к сервису \"Бухгалтерия.Контур\" сроком н...</td>\n      <td>Базовый</td>\n      <td>6 мес.</td>\n    </tr>\n    <tr>\n      <th>8</th>\n      <td>75</td>\n      <td>Доступ к сервису \"Бухгалтерия.Контур\" сроком н...</td>\n      <td>Максимальный</td>\n      <td>6 мес.</td>\n    </tr>\n    <tr>\n      <th>9</th>\n      <td>105</td>\n      <td>Доступ к сервису \"Бухгалтерия.Контур\" сроком н...</td>\n      <td>ТД</td>\n      <td>1 мес.</td>\n    </tr>\n    <tr>\n      <th>10</th>\n      <td>120</td>\n      <td>Доступ к сервису \"Бухгалтерия.Контур\" сроком н...</td>\n      <td>Лайт</td>\n      <td>1 год</td>\n    </tr>\n  </tbody>\n</table>\n</div>"
     },
     "execution_count": 192,
     "metadata": {},
     "output_type": "execute_result"
    }
   ],
   "source": [
    "duration_column = []\n",
    "for name in tariff_naming.piName:\n",
    "    a = re.search('сроком на\\s*(\\d* [\\S]*)', name).group(1).strip()\n",
    "    duration_column.append(a)\n",
    "tariff_naming['duration'] = duration_column\n",
    "\n",
    "tariff_naming"
   ],
   "metadata": {
    "collapsed": false,
    "pycharm": {
     "name": "#%%\n"
    }
   }
  },
  {
   "cell_type": "code",
   "execution_count": 193,
   "outputs": [
    {
     "data": {
      "text/plain": "          cID               cName  \\\n0          20    Michael Catalano   \n1          36         Carly Zhang   \n2          36         Carly Zhang   \n3          36         Carly Zhang   \n4          38           Helen Lal   \n...       ...                 ...   \n46075  842009        Annik Rousey   \n46076  842009        Annik Rousey   \n46077  842011    Connie O'Connell   \n46078  842013  Christina Chisholm   \n46079  842041     Stefen Bischoff   \n\n                                                  piName fact_month fact_year  \\\n0      Доступ к сервису \"Бухгалтерия.Контур\" сроком н...         07      2018   \n1      Доступ к сервису \"Бухгалтерия.Контур\" сроком н...         07      2016   \n2      Доступ к сервису \"Бухгалтерия.Контур\" сроком н...         06      2016   \n3      Доступ к сервису \"Бухгалтерия.Контур\" сроком н...         10      2016   \n4      Доступ к сервису \"Бухгалтерия.Контур\" сроком н...         03      2016   \n...                                                  ...        ...       ...   \n46075  Доступ к сервису \"Бухгалтерия.Контур\" сроком н...         05      2017   \n46076  Доступ к сервису \"Бухгалтерия.Контур\" сроком н...         03      2018   \n46077  Доступ к сервису \"Бухгалтерия.Контур\" сроком н...         12      2016   \n46078  Доступ к сервису \"Бухгалтерия.Контур\" сроком н...         06      2017   \n46079  Доступ к сервису \"Бухгалтерия.Контур\" сроком н...         10      2018   \n\n       SUM(BC.Cost)  \n0           19500.0  \n1           16770.0  \n2           16380.0  \n3            4100.0  \n4           12570.0  \n...             ...  \n46075       13650.0  \n46076        9750.0  \n46077       16770.0  \n46078       17680.0  \n46079       14060.0  \n\n[46080 rows x 6 columns]",
      "text/html": "<div>\n<style scoped>\n    .dataframe tbody tr th:only-of-type {\n        vertical-align: middle;\n    }\n\n    .dataframe tbody tr th {\n        vertical-align: top;\n    }\n\n    .dataframe thead th {\n        text-align: right;\n    }\n</style>\n<table border=\"1\" class=\"dataframe\">\n  <thead>\n    <tr style=\"text-align: right;\">\n      <th></th>\n      <th>cID</th>\n      <th>cName</th>\n      <th>piName</th>\n      <th>fact_month</th>\n      <th>fact_year</th>\n      <th>SUM(BC.Cost)</th>\n    </tr>\n  </thead>\n  <tbody>\n    <tr>\n      <th>0</th>\n      <td>20</td>\n      <td>Michael Catalano</td>\n      <td>Доступ к сервису \"Бухгалтерия.Контур\" сроком н...</td>\n      <td>07</td>\n      <td>2018</td>\n      <td>19500.0</td>\n    </tr>\n    <tr>\n      <th>1</th>\n      <td>36</td>\n      <td>Carly Zhang</td>\n      <td>Доступ к сервису \"Бухгалтерия.Контур\" сроком н...</td>\n      <td>07</td>\n      <td>2016</td>\n      <td>16770.0</td>\n    </tr>\n    <tr>\n      <th>2</th>\n      <td>36</td>\n      <td>Carly Zhang</td>\n      <td>Доступ к сервису \"Бухгалтерия.Контур\" сроком н...</td>\n      <td>06</td>\n      <td>2016</td>\n      <td>16380.0</td>\n    </tr>\n    <tr>\n      <th>3</th>\n      <td>36</td>\n      <td>Carly Zhang</td>\n      <td>Доступ к сервису \"Бухгалтерия.Контур\" сроком н...</td>\n      <td>10</td>\n      <td>2016</td>\n      <td>4100.0</td>\n    </tr>\n    <tr>\n      <th>4</th>\n      <td>38</td>\n      <td>Helen Lal</td>\n      <td>Доступ к сервису \"Бухгалтерия.Контур\" сроком н...</td>\n      <td>03</td>\n      <td>2016</td>\n      <td>12570.0</td>\n    </tr>\n    <tr>\n      <th>...</th>\n      <td>...</td>\n      <td>...</td>\n      <td>...</td>\n      <td>...</td>\n      <td>...</td>\n      <td>...</td>\n    </tr>\n    <tr>\n      <th>46075</th>\n      <td>842009</td>\n      <td>Annik Rousey</td>\n      <td>Доступ к сервису \"Бухгалтерия.Контур\" сроком н...</td>\n      <td>05</td>\n      <td>2017</td>\n      <td>13650.0</td>\n    </tr>\n    <tr>\n      <th>46076</th>\n      <td>842009</td>\n      <td>Annik Rousey</td>\n      <td>Доступ к сервису \"Бухгалтерия.Контур\" сроком н...</td>\n      <td>03</td>\n      <td>2018</td>\n      <td>9750.0</td>\n    </tr>\n    <tr>\n      <th>46077</th>\n      <td>842011</td>\n      <td>Connie O'Connell</td>\n      <td>Доступ к сервису \"Бухгалтерия.Контур\" сроком н...</td>\n      <td>12</td>\n      <td>2016</td>\n      <td>16770.0</td>\n    </tr>\n    <tr>\n      <th>46078</th>\n      <td>842013</td>\n      <td>Christina Chisholm</td>\n      <td>Доступ к сервису \"Бухгалтерия.Контур\" сроком н...</td>\n      <td>06</td>\n      <td>2017</td>\n      <td>17680.0</td>\n    </tr>\n    <tr>\n      <th>46079</th>\n      <td>842041</td>\n      <td>Stefen Bischoff</td>\n      <td>Доступ к сервису \"Бухгалтерия.Контур\" сроком н...</td>\n      <td>10</td>\n      <td>2018</td>\n      <td>14060.0</td>\n    </tr>\n  </tbody>\n</table>\n<p>46080 rows × 6 columns</p>\n</div>"
     },
     "execution_count": 193,
     "metadata": {},
     "output_type": "execute_result"
    }
   ],
   "source": [
    "sql_for_tariff_analysis = \"\"\"SELECT C.cID,\n",
    "       cName,\n",
    "       piName,\n",
    "       strftime('%m', Bills.PayDate) as fact_month,\n",
    "       strftime('%Y', Bills.PayDate) as fact_year,\n",
    "       SUM(BC.Cost)\n",
    "FROM Bills\n",
    "         JOIN BillsContent BC on Bills.bID = BC.bID\n",
    "         JOIN PriceItems PI on BC.piID = PI.piID\n",
    "         JOIN Agents A on Bills.scID = A.scID\n",
    "         join Clients C on Bills.cID = C.cID\n",
    "WHERE PayDate IS NOT NULL AND product = 'Бухгалтерия.Контур' AND A.regionCode = 77\n",
    "GROUP BY 1, 2, 3, 4, 5\"\"\"\n",
    "tariff_analysis = pd.read_sql_query(sql_for_tariff_analysis, connection)\n",
    "\n",
    "tariff_analysis"
   ],
   "metadata": {
    "collapsed": false,
    "pycharm": {
     "name": "#%%\n"
    }
   }
  },
  {
   "cell_type": "code",
   "execution_count": 194,
   "outputs": [
    {
     "data": {
      "text/plain": "          cID               cName  \\\n0          20    Michael Catalano   \n1          36         Carly Zhang   \n2          38           Helen Lal   \n3          72      Gregory Spicer   \n4          72      Gregory Spicer   \n...       ...                 ...   \n46075  805130     Reinout Blanton   \n46076  823169       Victor Canuto   \n46077  824945           Devin Cao   \n46078  832398  Priscilla Waggoner   \n46079  833794       Michal Morgan   \n\n                                                  piName fact_month fact_year  \\\n0      Доступ к сервису \"Бухгалтерия.Контур\" сроком н...         07      2018   \n1      Доступ к сервису \"Бухгалтерия.Контур\" сроком н...         06      2016   \n2      Доступ к сервису \"Бухгалтерия.Контур\" сроком н...         11      2016   \n3      Доступ к сервису \"Бухгалтерия.Контур\" сроком н...         04      2016   \n4      Доступ к сервису \"Бухгалтерия.Контур\" сроком н...         09      2016   \n...                                                  ...        ...       ...   \n46075  Доступ к сервису \"Бухгалтерия.Контур\" сроком н...         06      2016   \n46076  Доступ к сервису \"Бухгалтерия.Контур\" сроком н...         11      2017   \n46077  Доступ к сервису \"Бухгалтерия.Контур\" сроком н...         10      2016   \n46078  Доступ к сервису \"Бухгалтерия.Контур\" сроком н...         12      2015   \n46079  Доступ к сервису \"Бухгалтерия.Контур\" сроком н...         04      2016   \n\n       SUM(BC.Cost)  piID  type duration  \n0           19500.0   240  Лайт   2 года  \n1           16380.0   240  Лайт   2 года  \n2           15990.0   240  Лайт   2 года  \n3           16380.0   240  Лайт   2 года  \n4           35100.0   240  Лайт   2 года  \n...             ...   ...   ...      ...  \n46075           0.0   270    ТД   4 мес.  \n46076           0.0   270    ТД   4 мес.  \n46077           0.0   270    ТД   4 мес.  \n46078           0.0   270    ТД   4 мес.  \n46079           0.0   270    ТД   4 мес.  \n\n[46080 rows x 9 columns]",
      "text/html": "<div>\n<style scoped>\n    .dataframe tbody tr th:only-of-type {\n        vertical-align: middle;\n    }\n\n    .dataframe tbody tr th {\n        vertical-align: top;\n    }\n\n    .dataframe thead th {\n        text-align: right;\n    }\n</style>\n<table border=\"1\" class=\"dataframe\">\n  <thead>\n    <tr style=\"text-align: right;\">\n      <th></th>\n      <th>cID</th>\n      <th>cName</th>\n      <th>piName</th>\n      <th>fact_month</th>\n      <th>fact_year</th>\n      <th>SUM(BC.Cost)</th>\n      <th>piID</th>\n      <th>type</th>\n      <th>duration</th>\n    </tr>\n  </thead>\n  <tbody>\n    <tr>\n      <th>0</th>\n      <td>20</td>\n      <td>Michael Catalano</td>\n      <td>Доступ к сервису \"Бухгалтерия.Контур\" сроком н...</td>\n      <td>07</td>\n      <td>2018</td>\n      <td>19500.0</td>\n      <td>240</td>\n      <td>Лайт</td>\n      <td>2 года</td>\n    </tr>\n    <tr>\n      <th>1</th>\n      <td>36</td>\n      <td>Carly Zhang</td>\n      <td>Доступ к сервису \"Бухгалтерия.Контур\" сроком н...</td>\n      <td>06</td>\n      <td>2016</td>\n      <td>16380.0</td>\n      <td>240</td>\n      <td>Лайт</td>\n      <td>2 года</td>\n    </tr>\n    <tr>\n      <th>2</th>\n      <td>38</td>\n      <td>Helen Lal</td>\n      <td>Доступ к сервису \"Бухгалтерия.Контур\" сроком н...</td>\n      <td>11</td>\n      <td>2016</td>\n      <td>15990.0</td>\n      <td>240</td>\n      <td>Лайт</td>\n      <td>2 года</td>\n    </tr>\n    <tr>\n      <th>3</th>\n      <td>72</td>\n      <td>Gregory Spicer</td>\n      <td>Доступ к сервису \"Бухгалтерия.Контур\" сроком н...</td>\n      <td>04</td>\n      <td>2016</td>\n      <td>16380.0</td>\n      <td>240</td>\n      <td>Лайт</td>\n      <td>2 года</td>\n    </tr>\n    <tr>\n      <th>4</th>\n      <td>72</td>\n      <td>Gregory Spicer</td>\n      <td>Доступ к сервису \"Бухгалтерия.Контур\" сроком н...</td>\n      <td>09</td>\n      <td>2016</td>\n      <td>35100.0</td>\n      <td>240</td>\n      <td>Лайт</td>\n      <td>2 года</td>\n    </tr>\n    <tr>\n      <th>...</th>\n      <td>...</td>\n      <td>...</td>\n      <td>...</td>\n      <td>...</td>\n      <td>...</td>\n      <td>...</td>\n      <td>...</td>\n      <td>...</td>\n      <td>...</td>\n    </tr>\n    <tr>\n      <th>46075</th>\n      <td>805130</td>\n      <td>Reinout Blanton</td>\n      <td>Доступ к сервису \"Бухгалтерия.Контур\" сроком н...</td>\n      <td>06</td>\n      <td>2016</td>\n      <td>0.0</td>\n      <td>270</td>\n      <td>ТД</td>\n      <td>4 мес.</td>\n    </tr>\n    <tr>\n      <th>46076</th>\n      <td>823169</td>\n      <td>Victor Canuto</td>\n      <td>Доступ к сервису \"Бухгалтерия.Контур\" сроком н...</td>\n      <td>11</td>\n      <td>2017</td>\n      <td>0.0</td>\n      <td>270</td>\n      <td>ТД</td>\n      <td>4 мес.</td>\n    </tr>\n    <tr>\n      <th>46077</th>\n      <td>824945</td>\n      <td>Devin Cao</td>\n      <td>Доступ к сервису \"Бухгалтерия.Контур\" сроком н...</td>\n      <td>10</td>\n      <td>2016</td>\n      <td>0.0</td>\n      <td>270</td>\n      <td>ТД</td>\n      <td>4 мес.</td>\n    </tr>\n    <tr>\n      <th>46078</th>\n      <td>832398</td>\n      <td>Priscilla Waggoner</td>\n      <td>Доступ к сервису \"Бухгалтерия.Контур\" сроком н...</td>\n      <td>12</td>\n      <td>2015</td>\n      <td>0.0</td>\n      <td>270</td>\n      <td>ТД</td>\n      <td>4 мес.</td>\n    </tr>\n    <tr>\n      <th>46079</th>\n      <td>833794</td>\n      <td>Michal Morgan</td>\n      <td>Доступ к сервису \"Бухгалтерия.Контур\" сроком н...</td>\n      <td>04</td>\n      <td>2016</td>\n      <td>0.0</td>\n      <td>270</td>\n      <td>ТД</td>\n      <td>4 мес.</td>\n    </tr>\n  </tbody>\n</table>\n<p>46080 rows × 9 columns</p>\n</div>"
     },
     "execution_count": 194,
     "metadata": {},
     "output_type": "execute_result"
    }
   ],
   "source": [
    "merge_tariff = pd.merge(tariff_analysis, tariff_naming, on = 'piName')\n",
    "\n",
    "merge_tariff"
   ],
   "metadata": {
    "collapsed": false,
    "pycharm": {
     "name": "#%%\n"
    }
   }
  },
  {
   "cell_type": "markdown",
   "source": [
    "В среднем 83% клиентов пользуются Лайт тарифом, 14% - Базовым и 3% - Максимальным."
   ],
   "metadata": {
    "collapsed": false,
    "pycharm": {
     "name": "#%% md\n"
    }
   }
  },
  {
   "cell_type": "code",
   "execution_count": 195,
   "outputs": [
    {
     "data": {
      "text/plain": "              SUM(BC.Cost)\ntype                      \nБазовый         92007570.0\nЛайт           539722830.0\nМаксимальный    20314800.0\nТД                     0.0",
      "text/html": "<div>\n<style scoped>\n    .dataframe tbody tr th:only-of-type {\n        vertical-align: middle;\n    }\n\n    .dataframe tbody tr th {\n        vertical-align: top;\n    }\n\n    .dataframe thead th {\n        text-align: right;\n    }\n</style>\n<table border=\"1\" class=\"dataframe\">\n  <thead>\n    <tr style=\"text-align: right;\">\n      <th></th>\n      <th>SUM(BC.Cost)</th>\n    </tr>\n    <tr>\n      <th>type</th>\n      <th></th>\n    </tr>\n  </thead>\n  <tbody>\n    <tr>\n      <th>Базовый</th>\n      <td>92007570.0</td>\n    </tr>\n    <tr>\n      <th>Лайт</th>\n      <td>539722830.0</td>\n    </tr>\n    <tr>\n      <th>Максимальный</th>\n      <td>20314800.0</td>\n    </tr>\n    <tr>\n      <th>ТД</th>\n      <td>0.0</td>\n    </tr>\n  </tbody>\n</table>\n</div>"
     },
     "execution_count": 195,
     "metadata": {},
     "output_type": "execute_result"
    },
    {
     "data": {
      "text/plain": "<Figure size 432x288 with 1 Axes>",
      "image/png": "[encoded data removed]"
     },
     "metadata": {},
     "output_type": "display_data"
    }
   ],
   "source": [
    "for_pie_chart_1 = merge_tariff.pivot_table(index='type',values='SUM(BC.Cost)', aggfunc='sum')\n",
    "pie_chart_1 = for_pie_chart_1.plot(kind='pie', y='SUM(BC.Cost)',title='Распределение тарифов по видам', autopct='%1.0f%%')\n",
    "pie_chart_1.legend(loc=\"upper left\")\n",
    "\n",
    "for_pie_chart_1"
   ],
   "metadata": {
    "collapsed": false,
    "pycharm": {
     "name": "#%%\n"
    }
   }
  },
  {
   "cell_type": "markdown",
   "source": [
    "Клиенты в основном (76%) покупают длительную подписку (более года), 18% покупают годовую подписку, остальные 6% - подписку на 6 мес. При таких длительных тарифах важно сохранять долгосрочную лояльность клиентов, качественно оказывать им услуги поддержки."
   ],
   "metadata": {
    "collapsed": false,
    "pycharm": {
     "name": "#%% md\n"
    }
   }
  },
  {
   "cell_type": "code",
   "execution_count": 196,
   "outputs": [
    {
     "data": {
      "text/plain": "          SUM(BC.Cost)\nduration              \n1 год      116343390.0\n1 мес.             0.0\n18 мес.    177035310.0\n2 года     319245790.0\n2 мес.             0.0\n3 мес.             0.0\n4 мес.             0.0\n6 мес.      39420710.0",
      "text/html": "<div>\n<style scoped>\n    .dataframe tbody tr th:only-of-type {\n        vertical-align: middle;\n    }\n\n    .dataframe tbody tr th {\n        vertical-align: top;\n    }\n\n    .dataframe thead th {\n        text-align: right;\n    }\n</style>\n<table border=\"1\" class=\"dataframe\">\n  <thead>\n    <tr style=\"text-align: right;\">\n      <th></th>\n      <th>SUM(BC.Cost)</th>\n    </tr>\n    <tr>\n      <th>duration</th>\n      <th></th>\n    </tr>\n  </thead>\n  <tbody>\n    <tr>\n      <th>1 год</th>\n      <td>116343390.0</td>\n    </tr>\n    <tr>\n      <th>1 мес.</th>\n      <td>0.0</td>\n    </tr>\n    <tr>\n      <th>18 мес.</th>\n      <td>177035310.0</td>\n    </tr>\n    <tr>\n      <th>2 года</th>\n      <td>319245790.0</td>\n    </tr>\n    <tr>\n      <th>2 мес.</th>\n      <td>0.0</td>\n    </tr>\n    <tr>\n      <th>3 мес.</th>\n      <td>0.0</td>\n    </tr>\n    <tr>\n      <th>4 мес.</th>\n      <td>0.0</td>\n    </tr>\n    <tr>\n      <th>6 мес.</th>\n      <td>39420710.0</td>\n    </tr>\n  </tbody>\n</table>\n</div>"
     },
     "execution_count": 196,
     "metadata": {},
     "output_type": "execute_result"
    },
    {
     "data": {
      "text/plain": "<Figure size 432x288 with 1 Axes>",
      "image/png": "[encoded data removed]"
     },
     "metadata": {},
     "output_type": "display_data"
    }
   ],
   "source": [
    "for_pie_chart_2 = merge_tariff.pivot_table(index='duration',values='SUM(BC.Cost)', aggfunc='sum')\n",
    "pie_chart_1 = for_pie_chart_2.plot(kind='pie', y='SUM(BC.Cost)',title='Распределение тарифов по длительности', autopct='%1.0f%%')\n",
    "pie_chart_1.legend(loc=\"upper left\")\n",
    "\n",
    "for_pie_chart_2"
   ],
   "metadata": {
    "collapsed": false,
    "pycharm": {
     "name": "#%%\n"
    }
   }
  },
  {
   "cell_type": "markdown",
   "source": [
    "Если ТД -  это Триал Доступ (пробный период, т.к. он краткосрочный и колонка оплат пустая), то всего лишь 1% клиентов после использования пробного периода покупает подписку. Компании следует больше продвигать пробный период перед потенциальными клиентами, чтобы они могли оценить все преимущества продукта и перейти из категории \"потенциальных\" клиентов в фактические."
   ],
   "metadata": {
    "collapsed": false,
    "pycharm": {
     "name": "#%% md\n"
    }
   }
  },
  {
   "cell_type": "code",
   "execution_count": 197,
   "outputs": [
    {
     "name": "stdout",
     "output_type": "stream",
     "text": [
      "Доля клиентов, которые после использования пробного периода становятся клиентами компании, составляет 0.01\n"
     ]
    }
   ],
   "source": [
    "pivot_by_clients = merge_tariff.pivot_table(index='cName', columns='type', values='SUM(BC.Cost)', aggfunc='count')\n",
    "pivot_by_clients = pivot_by_clients.fillna(0)\n",
    "pivot_by_clients['Сумма'] = pivot_by_clients['Базовый'] + pivot_by_clients['Лайт'] + pivot_by_clients['Максимальный'] + pivot_by_clients['ТД']\n",
    "pivot_by_clients_trials = pivot_by_clients[(pivot_by_clients['ТД']>0)]\n",
    "pivot_by_clients_trials_and_more = pivot_by_clients_trials[(pivot_by_clients_trials['Сумма']>1)]\n",
    "future_client_percentage = round(pivot_by_clients_trials_and_more.shape[0]/pivot_by_clients.shape[0],2)\n",
    "\n",
    "print(f\"Доля клиентов, которые после использования пробного периода становятся клиентами компании, составляет {future_client_percentage}\")"
   ],
   "metadata": {
    "collapsed": false,
    "pycharm": {
     "name": "#%%\n"
    }
   }
  },
  {
   "cell_type": "code",
   "execution_count": 197,
   "outputs": [],
   "source": [],
   "metadata": {
    "collapsed": false,
    "pycharm": {
     "name": "#%%\n"
    }
   }
  }
 ],
 "metadata": {
  "kernelspec": {
   "display_name": "Python 3",
   "language": "python",
   "name": "python3"
  },
  "language_info": {
   "codemirror_mode": {
    "name": "ipython",
    "version": 2
   },
   "file_extension": ".py",
   "mimetype": "text/x-python",
   "name": "python",
   "nbconvert_exporter": "python",
   "pygments_lexer": "ipython2",
   "version": "2.7.6"
  }
 },
 "nbformat": 4,
 "nbformat_minor": 0
}