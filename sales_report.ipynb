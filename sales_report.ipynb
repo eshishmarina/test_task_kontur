{
 "cells": [
  {
   "cell_type": "code",
   "metadata": {
    "collapsed": true,
    "pycharm": {
     "name": "#%%\n"
    }
   },
   "source": [
    "from sqlalchemy import create_engine\n",
    "import pandas as pd\n",
    "import re"
   ],
   "execution_count": 5,
   "outputs": []
  },
  {
   "cell_type": "code",
   "execution_count": 6,
   "outputs": [],
   "source": [
    "engine = create_engine('sqlite:///testDB.sqlite3')\n",
    "connection = engine.raw_connection()"
   ],
   "metadata": {
    "collapsed": false,
    "pycharm": {
     "name": "#%%\n"
    }
   }
  },
  {
   "cell_type": "markdown",
   "source": [
    "построение таблицы для план-факт анализа"
   ],
   "metadata": {
    "collapsed": false,
    "pycharm": {
     "name": "#%% md\n"
    }
   }
  },
  {
   "cell_type": "code",
   "execution_count": 7,
   "outputs": [
    {
     "name": "stdout",
     "output_type": "stream",
     "text": [
      "                                     scID  plan_sales  fact_sales   abs_dev  \\\n",
      "0    1BCFA123-B3CC-FACF-E127-85FDBF3D386E    508300.0    488750.0  -19550.0   \n",
      "1    3FED3285-975A-2D54-A448-3631D3F2D0A0    631078.3    624830.0   -6248.0   \n",
      "2    49A9B9DC-EA97-4450-DFEB-473EB34753C2    396560.0    396560.0       0.0   \n",
      "3    4C56CBA9-D127-1724-29A9-485F543E03B8    527817.6    549810.0   21992.0   \n",
      "4    5F6C1C24-C72E-C3BF-F6E9-3A66B22C0530    516261.2    567320.0   51059.0   \n",
      "..                                    ...         ...         ...       ...   \n",
      "468  96BA5788-930E-CEB4-1868-6C4C8ED884DE   1435018.1   1420810.0  -14208.0   \n",
      "469  AC52A184-7480-C0EF-8CF1-8AB6CA0C266C   1296486.0   1600600.0  304114.0   \n",
      "470  C4CDA77A-511F-DE31-A3D1-EF8730E00339   1486408.6   1532380.0   45971.0   \n",
      "471  C64FBAFC-1860-BAF2-D875-403150AF29AD   1414140.0   1414140.0       0.0   \n",
      "472  D0A5BE04-FAAC-A4CE-1F17-7C3448093125   1855719.8   1974170.0  118450.0   \n",
      "\n",
      "     rel_dev  year month  \n",
      "0       -4.0  2015    06  \n",
      "1       -1.0  2015    06  \n",
      "2        0.0  2015    06  \n",
      "3        4.0  2015    06  \n",
      "4       10.0  2015    06  \n",
      "..       ...   ...   ...  \n",
      "468     -1.0  2018    12  \n",
      "469     23.0  2018    12  \n",
      "470      3.0  2018    12  \n",
      "471      0.0  2018    12  \n",
      "472      6.0  2018    12  \n",
      "\n",
      "[473 rows x 7 columns]\n"
     ]
    }
   ],
   "source": [
    "sql_pf_analysis = \"\"\"WITH fact_table AS (\n",
    "SELECT Bills.scID,\n",
    "       strftime('%m', Bills.PayDate) as fact_month,\n",
    "       strftime('%Y', Bills.PayDate) as fact_year,\n",
    "       SUM(BC.Cost) as fact_sales\n",
    "FROM Bills\n",
    "JOIN BillsContent BC on Bills.bID = BC.bID\n",
    "JOIN PriceItems PI on BC.piID = PI.piID\n",
    "JOIN Agents A on Bills.scID = A.scID\n",
    "WHERE PayDate IS NOT NULL AND product = 'Бухгалтерия.Контур' AND A.regionCode = 77\n",
    "GROUP BY 1, 2, 3\n",
    "),\n",
    "plan_table AS (\n",
    "SELECT rPlan.scID,\n",
    "    rPlan.plan_amount,\n",
    "    strftime('%m', rPlan.dt) as plan_month,\n",
    "    strftime('%Y', rPlan.dt) as plan_year\n",
    "FROM rPlan\n",
    "LEFT JOIN Agents A on rPlan.scID = A.scID\n",
    "WHERE product = 'Бухгалтерия.Контур' AND A.regionCode = 77\n",
    "ORDER BY plan_year, plan_month\n",
    ")\n",
    "SELECT plan_table.scID,\n",
    "       plan_amount as plan_sales,\n",
    "       fact_sales,\n",
    "       round(fact_sales - plan_amount) as abs_dev,\n",
    "       round((fact_sales - plan_amount) / plan_amount * 100) as rel_dev,\n",
    "       plan_year as year,\n",
    "       plan_month as month\n",
    "FROM plan_table\n",
    "JOIN fact_table on plan_table.scID = fact_table.scID\n",
    "               AND plan_table.plan_month = fact_table.fact_month\n",
    "               AND plan_table.plan_year = fact_table.fact_year\n",
    "\"\"\"\n",
    "pf_analysis = pd.read_sql_query(sql_pf_analysis, connection)\n",
    "\n",
    "print(pf_analysis)"
   ],
   "metadata": {
    "collapsed": false,
    "pycharm": {
     "name": "#%%\n"
    }
   }
  },
  {
   "cell_type": "markdown",
   "source": [
    "в таблице PriceItems выделение в отдельные столбцы наименования и длительности тарифов для анализа с помощью регулярных выражений, далее присоединение данных по фактическим продажам к этой таблице"
   ],
   "metadata": {
    "collapsed": false,
    "pycharm": {
     "name": "#%% md\n"
    }
   }
  },
  {
   "cell_type": "code",
   "execution_count": 8,
   "outputs": [
    {
     "name": "stdout",
     "output_type": "stream",
     "text": [
      "    piID                                             piName\n",
      "0     15  Доступ к сервису \"Бухгалтерия.Контур\" сроком н...\n",
      "1    136  Доступ к сервису \"Бухгалтерия.Контур\" сроком н...\n",
      "2    180  Доступ к сервису \"Бухгалтерия.Контур\" сроком н...\n",
      "3    195  Доступ к сервису \"Бухгалтерия.Контур\" сроком н...\n",
      "4    225  Доступ к сервису \"Бухгалтерия.Контур\" сроком н...\n",
      "5    240  Доступ к сервису \"Бухгалтерия.Контур\" сроком н...\n",
      "6    270  Доступ к сервису \"Бухгалтерия.Контур\" сроком н...\n",
      "7     45  Доступ к сервису \"Бухгалтерия.Контур\" сроком н...\n",
      "8     75  Доступ к сервису \"Бухгалтерия.Контур\" сроком н...\n",
      "9    105  Доступ к сервису \"Бухгалтерия.Контур\" сроком н...\n",
      "10   120  Доступ к сервису \"Бухгалтерия.Контур\" сроком н...\n"
     ]
    }
   ],
   "source": [
    "sql_tariff_naming = \"\"\"SELECT piID, piName FROM PriceItems WHERE product = 'Бухгалтерия.Контур'\"\"\"\n",
    "tariff_naming = pd.read_sql_query(sql_tariff_naming, connection)\n",
    "print(tariff_naming)"
   ],
   "metadata": {
    "collapsed": false,
    "pycharm": {
     "name": "#%%\n"
    }
   }
  },
  {
   "cell_type": "code",
   "execution_count": 9,
   "outputs": [
    {
     "name": "stdout",
     "output_type": "stream",
     "text": [
      "    piID                                             piName          type\n",
      "0     15  Доступ к сервису \"Бухгалтерия.Контур\" сроком н...          Лайт\n",
      "1    136  Доступ к сервису \"Бухгалтерия.Контур\" сроком н...       Базовый\n",
      "2    180  Доступ к сервису \"Бухгалтерия.Контур\" сроком н...            ТД\n",
      "3    195  Доступ к сервису \"Бухгалтерия.Контур\" сроком н...          Лайт\n",
      "4    225  Доступ к сервису \"Бухгалтерия.Контур\" сроком н...            ТД\n",
      "5    240  Доступ к сервису \"Бухгалтерия.Контур\" сроком н...          Лайт\n",
      "6    270  Доступ к сервису \"Бухгалтерия.Контур\" сроком н...            ТД\n",
      "7     45  Доступ к сервису \"Бухгалтерия.Контур\" сроком н...       Базовый\n",
      "8     75  Доступ к сервису \"Бухгалтерия.Контур\" сроком н...  Максимальный\n",
      "9    105  Доступ к сервису \"Бухгалтерия.Контур\" сроком н...            ТД\n",
      "10   120  Доступ к сервису \"Бухгалтерия.Контур\" сроком н...          Лайт\n"
     ]
    }
   ],
   "source": [
    "type_column = []\n",
    "for name in tariff_naming.piName:\n",
    "    a = re.search('[\\\"|(]([а-яА-Я]*)[\\\"|)]$', name).group(1)\n",
    "    type_column.append(a)\n",
    "tariff_naming['type'] = type_column\n",
    "print(tariff_naming)"
   ],
   "metadata": {
    "collapsed": false,
    "pycharm": {
     "name": "#%%\n"
    }
   }
  },
  {
   "cell_type": "code",
   "execution_count": 10,
   "outputs": [
    {
     "name": "stdout",
     "output_type": "stream",
     "text": [
      "    piID                                             piName          type  \\\n",
      "0     15  Доступ к сервису \"Бухгалтерия.Контур\" сроком н...          Лайт   \n",
      "1    136  Доступ к сервису \"Бухгалтерия.Контур\" сроком н...       Базовый   \n",
      "2    180  Доступ к сервису \"Бухгалтерия.Контур\" сроком н...            ТД   \n",
      "3    195  Доступ к сервису \"Бухгалтерия.Контур\" сроком н...          Лайт   \n",
      "4    225  Доступ к сервису \"Бухгалтерия.Контур\" сроком н...            ТД   \n",
      "5    240  Доступ к сервису \"Бухгалтерия.Контур\" сроком н...          Лайт   \n",
      "6    270  Доступ к сервису \"Бухгалтерия.Контур\" сроком н...            ТД   \n",
      "7     45  Доступ к сервису \"Бухгалтерия.Контур\" сроком н...       Базовый   \n",
      "8     75  Доступ к сервису \"Бухгалтерия.Контур\" сроком н...  Максимальный   \n",
      "9    105  Доступ к сервису \"Бухгалтерия.Контур\" сроком н...            ТД   \n",
      "10   120  Доступ к сервису \"Бухгалтерия.Контур\" сроком н...          Лайт   \n",
      "\n",
      "   duration  \n",
      "0    6 мес.  \n",
      "1     1 год  \n",
      "2    2 мес.  \n",
      "3   18 мес.  \n",
      "4    3 мес.  \n",
      "5    2 года  \n",
      "6    4 мес.  \n",
      "7    6 мес.  \n",
      "8    6 мес.  \n",
      "9    1 мес.  \n",
      "10    1 год  \n"
     ]
    }
   ],
   "source": [
    "duration_column = []\n",
    "for name in tariff_naming.piName:\n",
    "    a = re.search('сроком на\\s*(\\d* [\\S]*)', name).group(1).strip()\n",
    "    duration_column.append(a)\n",
    "tariff_naming['duration'] = duration_column\n",
    "print(tariff_naming)"
   ],
   "metadata": {
    "collapsed": false,
    "pycharm": {
     "name": "#%%\n"
    }
   }
  },
  {
   "cell_type": "code",
   "execution_count": 11,
   "outputs": [
    {
     "name": "stdout",
     "output_type": "stream",
     "text": [
      "          cID               cName  \\\n",
      "0          20    Michael Catalano   \n",
      "1          36         Carly Zhang   \n",
      "2          36         Carly Zhang   \n",
      "3          36         Carly Zhang   \n",
      "4          38           Helen Lal   \n",
      "...       ...                 ...   \n",
      "46075  842009        Annik Rousey   \n",
      "46076  842009        Annik Rousey   \n",
      "46077  842011    Connie O'Connell   \n",
      "46078  842013  Christina Chisholm   \n",
      "46079  842041     Stefen Bischoff   \n",
      "\n",
      "                                                  piName fact_month fact_year  \\\n",
      "0      Доступ к сервису \"Бухгалтерия.Контур\" сроком н...         07      2018   \n",
      "1      Доступ к сервису \"Бухгалтерия.Контур\" сроком н...         07      2016   \n",
      "2      Доступ к сервису \"Бухгалтерия.Контур\" сроком н...         06      2016   \n",
      "3      Доступ к сервису \"Бухгалтерия.Контур\" сроком н...         10      2016   \n",
      "4      Доступ к сервису \"Бухгалтерия.Контур\" сроком н...         03      2016   \n",
      "...                                                  ...        ...       ...   \n",
      "46075  Доступ к сервису \"Бухгалтерия.Контур\" сроком н...         05      2017   \n",
      "46076  Доступ к сервису \"Бухгалтерия.Контур\" сроком н...         03      2018   \n",
      "46077  Доступ к сервису \"Бухгалтерия.Контур\" сроком н...         12      2016   \n",
      "46078  Доступ к сервису \"Бухгалтерия.Контур\" сроком н...         06      2017   \n",
      "46079  Доступ к сервису \"Бухгалтерия.Контур\" сроком н...         10      2018   \n",
      "\n",
      "       SUM(BC.Cost)  \n",
      "0           19500.0  \n",
      "1           16770.0  \n",
      "2           16380.0  \n",
      "3            4100.0  \n",
      "4           12570.0  \n",
      "...             ...  \n",
      "46075       13650.0  \n",
      "46076        9750.0  \n",
      "46077       16770.0  \n",
      "46078       17680.0  \n",
      "46079       14060.0  \n",
      "\n",
      "[46080 rows x 6 columns]\n"
     ]
    }
   ],
   "source": [
    "sql_for_tariff_analysis = \"\"\"SELECT C.cID,\n",
    "       cName,\n",
    "       piName,\n",
    "       strftime('%m', Bills.PayDate) as fact_month,\n",
    "       strftime('%Y', Bills.PayDate) as fact_year,\n",
    "       SUM(BC.Cost)\n",
    "FROM Bills\n",
    "         JOIN BillsContent BC on Bills.bID = BC.bID\n",
    "         JOIN PriceItems PI on BC.piID = PI.piID\n",
    "         JOIN Agents A on Bills.scID = A.scID\n",
    "         join Clients C on Bills.cID = C.cID\n",
    "WHERE PayDate IS NOT NULL AND product = 'Бухгалтерия.Контур' AND A.regionCode = 77\n",
    "GROUP BY 1, 2, 3, 4, 5\"\"\"\n",
    "tariff_analysis = pd.read_sql_query(sql_for_tariff_analysis, connection)\n",
    "print(tariff_analysis)"
   ],
   "metadata": {
    "collapsed": false,
    "pycharm": {
     "name": "#%%\n"
    }
   }
  },
  {
   "cell_type": "code",
   "execution_count": 12,
   "outputs": [
    {
     "data": {
      "text/plain": "          cID               cName  \\\n0          20    Michael Catalano   \n1          36         Carly Zhang   \n2          38           Helen Lal   \n3          72      Gregory Spicer   \n4          72      Gregory Spicer   \n...       ...                 ...   \n46075  805130     Reinout Blanton   \n46076  823169       Victor Canuto   \n46077  824945           Devin Cao   \n46078  832398  Priscilla Waggoner   \n46079  833794       Michal Morgan   \n\n                                                  piName fact_month fact_year  \\\n0      Доступ к сервису \"Бухгалтерия.Контур\" сроком н...         07      2018   \n1      Доступ к сервису \"Бухгалтерия.Контур\" сроком н...         06      2016   \n2      Доступ к сервису \"Бухгалтерия.Контур\" сроком н...         11      2016   \n3      Доступ к сервису \"Бухгалтерия.Контур\" сроком н...         04      2016   \n4      Доступ к сервису \"Бухгалтерия.Контур\" сроком н...         09      2016   \n...                                                  ...        ...       ...   \n46075  Доступ к сервису \"Бухгалтерия.Контур\" сроком н...         06      2016   \n46076  Доступ к сервису \"Бухгалтерия.Контур\" сроком н...         11      2017   \n46077  Доступ к сервису \"Бухгалтерия.Контур\" сроком н...         10      2016   \n46078  Доступ к сервису \"Бухгалтерия.Контур\" сроком н...         12      2015   \n46079  Доступ к сервису \"Бухгалтерия.Контур\" сроком н...         04      2016   \n\n       SUM(BC.Cost)  piID  type duration  \n0           19500.0   240  Лайт   2 года  \n1           16380.0   240  Лайт   2 года  \n2           15990.0   240  Лайт   2 года  \n3           16380.0   240  Лайт   2 года  \n4           35100.0   240  Лайт   2 года  \n...             ...   ...   ...      ...  \n46075           0.0   270    ТД   4 мес.  \n46076           0.0   270    ТД   4 мес.  \n46077           0.0   270    ТД   4 мес.  \n46078           0.0   270    ТД   4 мес.  \n46079           0.0   270    ТД   4 мес.  \n\n[46080 rows x 9 columns]",
      "text/html": "<div>\n<style scoped>\n    .dataframe tbody tr th:only-of-type {\n        vertical-align: middle;\n    }\n\n    .dataframe tbody tr th {\n        vertical-align: top;\n    }\n\n    .dataframe thead th {\n        text-align: right;\n    }\n</style>\n<table border=\"1\" class=\"dataframe\">\n  <thead>\n    <tr style=\"text-align: right;\">\n      <th></th>\n      <th>cID</th>\n      <th>cName</th>\n      <th>piName</th>\n      <th>fact_month</th>\n      <th>fact_year</th>\n      <th>SUM(BC.Cost)</th>\n      <th>piID</th>\n      <th>type</th>\n      <th>duration</th>\n    </tr>\n  </thead>\n  <tbody>\n    <tr>\n      <th>0</th>\n      <td>20</td>\n      <td>Michael Catalano</td>\n      <td>Доступ к сервису \"Бухгалтерия.Контур\" сроком н...</td>\n      <td>07</td>\n      <td>2018</td>\n      <td>19500.0</td>\n      <td>240</td>\n      <td>Лайт</td>\n      <td>2 года</td>\n    </tr>\n    <tr>\n      <th>1</th>\n      <td>36</td>\n      <td>Carly Zhang</td>\n      <td>Доступ к сервису \"Бухгалтерия.Контур\" сроком н...</td>\n      <td>06</td>\n      <td>2016</td>\n      <td>16380.0</td>\n      <td>240</td>\n      <td>Лайт</td>\n      <td>2 года</td>\n    </tr>\n    <tr>\n      <th>2</th>\n      <td>38</td>\n      <td>Helen Lal</td>\n      <td>Доступ к сервису \"Бухгалтерия.Контур\" сроком н...</td>\n      <td>11</td>\n      <td>2016</td>\n      <td>15990.0</td>\n      <td>240</td>\n      <td>Лайт</td>\n      <td>2 года</td>\n    </tr>\n    <tr>\n      <th>3</th>\n      <td>72</td>\n      <td>Gregory Spicer</td>\n      <td>Доступ к сервису \"Бухгалтерия.Контур\" сроком н...</td>\n      <td>04</td>\n      <td>2016</td>\n      <td>16380.0</td>\n      <td>240</td>\n      <td>Лайт</td>\n      <td>2 года</td>\n    </tr>\n    <tr>\n      <th>4</th>\n      <td>72</td>\n      <td>Gregory Spicer</td>\n      <td>Доступ к сервису \"Бухгалтерия.Контур\" сроком н...</td>\n      <td>09</td>\n      <td>2016</td>\n      <td>35100.0</td>\n      <td>240</td>\n      <td>Лайт</td>\n      <td>2 года</td>\n    </tr>\n    <tr>\n      <th>...</th>\n      <td>...</td>\n      <td>...</td>\n      <td>...</td>\n      <td>...</td>\n      <td>...</td>\n      <td>...</td>\n      <td>...</td>\n      <td>...</td>\n      <td>...</td>\n    </tr>\n    <tr>\n      <th>46075</th>\n      <td>805130</td>\n      <td>Reinout Blanton</td>\n      <td>Доступ к сервису \"Бухгалтерия.Контур\" сроком н...</td>\n      <td>06</td>\n      <td>2016</td>\n      <td>0.0</td>\n      <td>270</td>\n      <td>ТД</td>\n      <td>4 мес.</td>\n    </tr>\n    <tr>\n      <th>46076</th>\n      <td>823169</td>\n      <td>Victor Canuto</td>\n      <td>Доступ к сервису \"Бухгалтерия.Контур\" сроком н...</td>\n      <td>11</td>\n      <td>2017</td>\n      <td>0.0</td>\n      <td>270</td>\n      <td>ТД</td>\n      <td>4 мес.</td>\n    </tr>\n    <tr>\n      <th>46077</th>\n      <td>824945</td>\n      <td>Devin Cao</td>\n      <td>Доступ к сервису \"Бухгалтерия.Контур\" сроком н...</td>\n      <td>10</td>\n      <td>2016</td>\n      <td>0.0</td>\n      <td>270</td>\n      <td>ТД</td>\n      <td>4 мес.</td>\n    </tr>\n    <tr>\n      <th>46078</th>\n      <td>832398</td>\n      <td>Priscilla Waggoner</td>\n      <td>Доступ к сервису \"Бухгалтерия.Контур\" сроком н...</td>\n      <td>12</td>\n      <td>2015</td>\n      <td>0.0</td>\n      <td>270</td>\n      <td>ТД</td>\n      <td>4 мес.</td>\n    </tr>\n    <tr>\n      <th>46079</th>\n      <td>833794</td>\n      <td>Michal Morgan</td>\n      <td>Доступ к сервису \"Бухгалтерия.Контур\" сроком н...</td>\n      <td>04</td>\n      <td>2016</td>\n      <td>0.0</td>\n      <td>270</td>\n      <td>ТД</td>\n      <td>4 мес.</td>\n    </tr>\n  </tbody>\n</table>\n<p>46080 rows × 9 columns</p>\n</div>"
     },
     "execution_count": 12,
     "metadata": {},
     "output_type": "execute_result"
    }
   ],
   "source": [
    "merge_tariff = pd.merge(tariff_analysis, tariff_naming, on = 'piName')\n",
    "merge_tariff"
   ],
   "metadata": {
    "collapsed": false,
    "pycharm": {
     "name": "#%%\n"
    }
   }
  },
  {
   "cell_type": "code",
   "execution_count": 12,
   "outputs": [],
   "source": [],
   "metadata": {
    "collapsed": false,
    "pycharm": {
     "name": "#%%\n"
    }
   }
  }
 ],
 "metadata": {
  "kernelspec": {
   "display_name": "Python 3",
   "language": "python",
   "name": "python3"
  },
  "language_info": {
   "codemirror_mode": {
    "name": "ipython",
    "version": 2
   },
   "file_extension": ".py",
   "mimetype": "text/x-python",
   "name": "python",
   "nbconvert_exporter": "python",
   "pygments_lexer": "ipython2",
   "version": "2.7.6"
  }
 },
 "nbformat": 4,
 "nbformat_minor": 0
}